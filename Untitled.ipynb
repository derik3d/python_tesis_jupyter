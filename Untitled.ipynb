{
 "cells": [
  {
   "cell_type": "code",
   "execution_count": 10,
   "metadata": {},
   "outputs": [
    {
     "data": {
      "text/plain": [
       "1.4142135623730951"
      ]
     },
     "execution_count": 10,
     "metadata": {},
     "output_type": "execute_result"
    }
   ],
   "source": [
    "import numpy as np\n",
    "from scipy.spatial.distance import directed_hausdorff\n",
    "u = np.array([(1.0, 0.0),\n",
    "               (0.0, 1.0),\n",
    "               (-1.0, 0.0),\n",
    "               (0.0, -1.0)])\n",
    "v = np.array([(2.0, 0.0),\n",
    "               (0.0, 2.0),\n",
    "               (-3.0, 5.0),\n",
    "               (-3.0, 5.0),\n",
    "               (0.0, -1.0)])\n",
    "directed_hausdorff(u, v)[0]"
   ]
  },
  {
   "cell_type": "code",
   "execution_count": null,
   "metadata": {},
   "outputs": [],
   "source": []
  }
 ],
 "metadata": {
  "kernelspec": {
   "display_name": "Python 3",
   "language": "python",
   "name": "python3"
  },
  "language_info": {
   "codemirror_mode": {
    "name": "ipython",
    "version": 3
   },
   "file_extension": ".py",
   "mimetype": "text/x-python",
   "name": "python",
   "nbconvert_exporter": "python",
   "pygments_lexer": "ipython3",
   "version": "3.8.2"
  }
 },
 "nbformat": 4,
 "nbformat_minor": 4
}
